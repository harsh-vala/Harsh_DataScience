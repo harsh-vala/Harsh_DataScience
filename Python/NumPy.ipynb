{
 "cells": [
  {
   "cell_type": "markdown",
   "id": "c9dc039e",
   "metadata": {},
   "source": [
    "# Numpy\n",
    "-numpy is high efficiency array processing library"
   ]
  },
  {
   "cell_type": "code",
   "execution_count": 60,
   "id": "b5471de6",
   "metadata": {},
   "outputs": [],
   "source": [
    "import numpy as np"
   ]
  },
  {
   "cell_type": "code",
   "execution_count": 23,
   "id": "9daf6531",
   "metadata": {},
   "outputs": [],
   "source": [
    "my_lst=[1,2,3,4,5]\n",
    "arr=np.array(my_lst) #created numpy array from list"
   ]
  },
  {
   "cell_type": "code",
   "execution_count": 24,
   "id": "efeaa3a1",
   "metadata": {},
   "outputs": [
    {
     "data": {
      "text/plain": [
       "array([1, 2, 3, 4, 5])"
      ]
     },
     "execution_count": 24,
     "metadata": {},
     "output_type": "execute_result"
    }
   ],
   "source": [
    "arr"
   ]
  },
  {
   "cell_type": "code",
   "execution_count": 25,
   "id": "d38ac26b",
   "metadata": {},
   "outputs": [
    {
     "data": {
      "text/plain": [
       "(5,)"
      ]
     },
     "execution_count": 25,
     "metadata": {},
     "output_type": "execute_result"
    }
   ],
   "source": [
    "arr.shape #shape method is used to find dimension of array"
   ]
  },
  {
   "cell_type": "code",
   "execution_count": 13,
   "id": "000c65bf",
   "metadata": {},
   "outputs": [],
   "source": [
    "lst1=[1,2,3,4,5]\n",
    "lst2=[2,3,4,5,6]\n",
    "lst3=[3,4,5,6,7]\n",
    "\n",
    "arr2=np.array([lst1,lst2,lst3])"
   ]
  },
  {
   "cell_type": "code",
   "execution_count": 18,
   "id": "6d0487ba",
   "metadata": {},
   "outputs": [
    {
     "data": {
      "text/plain": [
       "(3, 5)"
      ]
     },
     "execution_count": 18,
     "metadata": {},
     "output_type": "execute_result"
    }
   ],
   "source": [
    "arr2.shape"
   ]
  },
  {
   "cell_type": "code",
   "execution_count": 29,
   "id": "6ce5145c",
   "metadata": {},
   "outputs": [
    {
     "data": {
      "text/plain": [
       "array([[1, 2, 3, 4, 5],\n",
       "       [2, 3, 4, 5, 6],\n",
       "       [3, 4, 5, 6, 7]])"
      ]
     },
     "execution_count": 29,
     "metadata": {},
     "output_type": "execute_result"
    }
   ],
   "source": [
    "arr2.reshape(3,5)"
   ]
  },
  {
   "cell_type": "markdown",
   "id": "cef23bfc",
   "metadata": {},
   "source": [
    "## indexing in numpy"
   ]
  },
  {
   "cell_type": "code",
   "execution_count": 30,
   "id": "47e2f7bf",
   "metadata": {},
   "outputs": [
    {
     "data": {
      "text/plain": [
       "array([[1, 2, 3, 4, 5],\n",
       "       [2, 3, 4, 5, 6],\n",
       "       [3, 4, 5, 6, 7]])"
      ]
     },
     "execution_count": 30,
     "metadata": {},
     "output_type": "execute_result"
    }
   ],
   "source": [
    "arr2"
   ]
  },
  {
   "cell_type": "code",
   "execution_count": 32,
   "id": "0d31eb7f",
   "metadata": {},
   "outputs": [
    {
     "data": {
      "text/plain": [
       "array([[4, 5],\n",
       "       [5, 6]])"
      ]
     },
     "execution_count": 32,
     "metadata": {},
     "output_type": "execute_result"
    }
   ],
   "source": [
    "arr2[1:,2:4] #practice indexing"
   ]
  },
  {
   "cell_type": "code",
   "execution_count": 34,
   "id": "ef612a5a",
   "metadata": {},
   "outputs": [
    {
     "data": {
      "text/plain": [
       "array([[3, 4, 5]])"
      ]
     },
     "execution_count": 34,
     "metadata": {},
     "output_type": "execute_result"
    }
   ],
   "source": [
    "arr2[1:2,1:4] #practice indexing"
   ]
  },
  {
   "cell_type": "markdown",
   "id": "c81ac5bf",
   "metadata": {},
   "source": [
    "## inbuilt functions"
   ]
  },
  {
   "cell_type": "code",
   "execution_count": 43,
   "id": "a089a368",
   "metadata": {},
   "outputs": [],
   "source": [
    "arr=np.arange(1,10,step=2) #used to create a single dim array with range you provide, arange(start, stop, step=\"skip number\")"
   ]
  },
  {
   "cell_type": "code",
   "execution_count": 44,
   "id": "7e180d11",
   "metadata": {},
   "outputs": [
    {
     "data": {
      "text/plain": [
       "array([1, 3, 5, 7, 9])"
      ]
     },
     "execution_count": 44,
     "metadata": {},
     "output_type": "execute_result"
    }
   ],
   "source": [
    "arr"
   ]
  },
  {
   "cell_type": "code",
   "execution_count": 48,
   "id": "ee8c6d31",
   "metadata": {
    "scrolled": true
   },
   "outputs": [
    {
     "data": {
      "text/plain": [
       "array([  1.        ,   3.02040816,   5.04081633,   7.06122449,\n",
       "         9.08163265,  11.10204082,  13.12244898,  15.14285714,\n",
       "        17.16326531,  19.18367347,  21.20408163,  23.2244898 ,\n",
       "        25.24489796,  27.26530612,  29.28571429,  31.30612245,\n",
       "        33.32653061,  35.34693878,  37.36734694,  39.3877551 ,\n",
       "        41.40816327,  43.42857143,  45.44897959,  47.46938776,\n",
       "        49.48979592,  51.51020408,  53.53061224,  55.55102041,\n",
       "        57.57142857,  59.59183673,  61.6122449 ,  63.63265306,\n",
       "        65.65306122,  67.67346939,  69.69387755,  71.71428571,\n",
       "        73.73469388,  75.75510204,  77.7755102 ,  79.79591837,\n",
       "        81.81632653,  83.83673469,  85.85714286,  87.87755102,\n",
       "        89.89795918,  91.91836735,  93.93877551,  95.95918367,\n",
       "        97.97959184, 100.        ])"
      ]
     },
     "execution_count": 48,
     "metadata": {},
     "output_type": "execute_result"
    }
   ],
   "source": [
    "np.linspace(1,100) # "
   ]
  },
  {
   "cell_type": "code",
   "execution_count": 53,
   "id": "4fb10df9",
   "metadata": {},
   "outputs": [
    {
     "data": {
      "text/plain": [
       "array([ 1.  ,  2.98,  4.96,  6.94,  8.92, 10.9 , 12.88, 14.86, 16.84,\n",
       "       18.82, 20.8 , 22.78, 24.76, 26.74, 28.72, 30.7 , 32.68, 34.66,\n",
       "       36.64, 38.62, 40.6 , 42.58, 44.56, 46.54, 48.52, 50.5 , 52.48,\n",
       "       54.46, 56.44, 58.42, 60.4 , 62.38, 64.36, 66.34, 68.32, 70.3 ,\n",
       "       72.28, 74.26, 76.24, 78.22, 80.2 , 82.18, 84.16, 86.14, 88.12,\n",
       "       90.1 , 92.08, 94.06, 96.04, 98.02])"
      ]
     },
     "execution_count": 53,
     "metadata": {},
     "output_type": "execute_result"
    }
   ],
   "source": [
    "np.linspace(1,100,endpoint=False)"
   ]
  },
  {
   "cell_type": "code",
   "execution_count": 55,
   "id": "b25334c2",
   "metadata": {},
   "outputs": [
    {
     "data": {
      "text/plain": [
       "(array([  1.        ,   3.02040816,   5.04081633,   7.06122449,\n",
       "          9.08163265,  11.10204082,  13.12244898,  15.14285714,\n",
       "         17.16326531,  19.18367347,  21.20408163,  23.2244898 ,\n",
       "         25.24489796,  27.26530612,  29.28571429,  31.30612245,\n",
       "         33.32653061,  35.34693878,  37.36734694,  39.3877551 ,\n",
       "         41.40816327,  43.42857143,  45.44897959,  47.46938776,\n",
       "         49.48979592,  51.51020408,  53.53061224,  55.55102041,\n",
       "         57.57142857,  59.59183673,  61.6122449 ,  63.63265306,\n",
       "         65.65306122,  67.67346939,  69.69387755,  71.71428571,\n",
       "         73.73469388,  75.75510204,  77.7755102 ,  79.79591837,\n",
       "         81.81632653,  83.83673469,  85.85714286,  87.87755102,\n",
       "         89.89795918,  91.91836735,  93.93877551,  95.95918367,\n",
       "         97.97959184, 100.        ]),\n",
       " 2.020408163265306)"
      ]
     },
     "execution_count": 55,
     "metadata": {},
     "output_type": "execute_result"
    }
   ],
   "source": [
    "np.linspace(1,100,retstep=True)"
   ]
  },
  {
   "cell_type": "markdown",
   "id": "a2f99812",
   "metadata": {},
   "source": [
    "## copy fucntion, broadcasting and EDA"
   ]
  },
  {
   "cell_type": "code",
   "execution_count": 75,
   "id": "5ce1ea0a",
   "metadata": {},
   "outputs": [],
   "source": [
    "tarr=[1,2,3,4,5,6,7]\n",
    "arr=np.array(tarr)"
   ]
  },
  {
   "cell_type": "code",
   "execution_count": 76,
   "id": "97b77f7d",
   "metadata": {},
   "outputs": [],
   "source": [
    "arr[4:]=100"
   ]
  },
  {
   "cell_type": "code",
   "execution_count": 79,
   "id": "1eca2af5",
   "metadata": {},
   "outputs": [
    {
     "data": {
      "text/plain": [
       "array([  1,   2,   3,   4, 100, 100, 100])"
      ]
     },
     "execution_count": 79,
     "metadata": {},
     "output_type": "execute_result"
    }
   ],
   "source": [
    "arr"
   ]
  },
  {
   "cell_type": "markdown",
   "id": "1a897a0a",
   "metadata": {},
   "source": [
    "arr1=arr.copy()\n",
    "arr1"
   ]
  },
  {
   "cell_type": "code",
   "execution_count": 83,
   "id": "419ded52",
   "metadata": {},
   "outputs": [
    {
     "data": {
      "text/plain": [
       "array([  1,   2,   3,   4, 100, 100, 100])"
      ]
     },
     "execution_count": 83,
     "metadata": {},
     "output_type": "execute_result"
    }
   ],
   "source": [
    "arr1[2:]=200\n",
    "arr"
   ]
  },
  {
   "cell_type": "code",
   "execution_count": 88,
   "id": "e7936fff",
   "metadata": {},
   "outputs": [
    {
     "data": {
      "text/plain": [
       "array([[ 1,  2],\n",
       "       [ 3,  4],\n",
       "       [ 5,  6],\n",
       "       [ 7,  8],\n",
       "       [ 9, 10]])"
      ]
     },
     "execution_count": 88,
     "metadata": {},
     "output_type": "execute_result"
    }
   ],
   "source": [
    "np.arange(1,11).reshape(5,2)"
   ]
  },
  {
   "cell_type": "code",
   "execution_count": 91,
   "id": "88727d2b",
   "metadata": {},
   "outputs": [
    {
     "data": {
      "text/plain": [
       "array([1, 2, 3, 4])"
      ]
     },
     "execution_count": 91,
     "metadata": {},
     "output_type": "execute_result"
    }
   ],
   "source": [
    "arr[arr<100]"
   ]
  },
  {
   "cell_type": "code",
   "execution_count": 94,
   "id": "8af94119",
   "metadata": {},
   "outputs": [
    {
     "data": {
      "text/plain": [
       "array([    1,     4,   600,   800, 20000, 20000, 20000])"
      ]
     },
     "execution_count": 94,
     "metadata": {},
     "output_type": "execute_result"
    }
   ],
   "source": [
    "arr1*arr"
   ]
  },
  {
   "cell_type": "code",
   "execution_count": 98,
   "id": "6e1a4026",
   "metadata": {},
   "outputs": [
    {
     "data": {
      "text/plain": [
       "array([[1, 1, 1, 1, 1],\n",
       "       [1, 1, 1, 1, 1],\n",
       "       [1, 1, 1, 1, 1]])"
      ]
     },
     "execution_count": 98,
     "metadata": {},
     "output_type": "execute_result"
    }
   ],
   "source": [
    "np.ones((3,5),dtype=int)"
   ]
  },
  {
   "cell_type": "code",
   "execution_count": 632,
   "id": "041e8084",
   "metadata": {},
   "outputs": [],
   "source": [
    "import seaborn as sns\n",
    "import pandas as pd"
   ]
  },
  {
   "cell_type": "code",
   "execution_count": 646,
   "id": "d5ff6c58",
   "metadata": {},
   "outputs": [
    {
     "name": "stderr",
     "output_type": "stream",
     "text": [
      "C:\\Users\\Harsh Vala\\anaconda3\\lib\\site-packages\\seaborn\\distributions.py:2619: FutureWarning: `distplot` is a deprecated function and will be removed in a future version. Please adapt your code to use either `displot` (a figure-level function with similar flexibility) or `histplot` (an axes-level function for histograms).\n",
      "  warnings.warn(msg, FutureWarning)\n"
     ]
    },
    {
     "data": {
      "text/plain": [
       "<AxesSubplot:ylabel='Density'>"
      ]
     },
     "execution_count": 646,
     "metadata": {},
     "output_type": "execute_result"
    },
    {
     "data": {
      "image/png": "[encoded data removed]",
      "text/plain": [
       "<Figure size 640x480 with 1 Axes>"
      ]
     },
     "metadata": {},
     "output_type": "display_data"
    }
   ],
   "source": [
    "arr_exa=np.random.rand(5,10)\n",
    "sns.distplot(pd.DataFrame(arr_exa.reshape(1,50)))"
   ]
  },
  {
   "cell_type": "code",
   "execution_count": 647,
   "id": "dc9fa37f",
   "metadata": {},
   "outputs": [
    {
     "name": "stderr",
     "output_type": "stream",
     "text": [
      "C:\\Users\\Harsh Vala\\anaconda3\\lib\\site-packages\\seaborn\\distributions.py:2619: FutureWarning: `distplot` is a deprecated function and will be removed in a future version. Please adapt your code to use either `displot` (a figure-level function with similar flexibility) or `histplot` (an axes-level function for histograms).\n",
      "  warnings.warn(msg, FutureWarning)\n"
     ]
    },
    {
     "data": {
      "text/plain": [
       "<AxesSubplot:ylabel='Density'>"
      ]
     },
     "execution_count": 647,
     "metadata": {},
     "output_type": "execute_result"
    },
    {
     "data": {
      "image/png": "[encoded data removed]",
      "text/plain": [
       "<Figure size 640x480 with 1 Axes>"
      ]
     },
     "metadata": {},
     "output_type": "display_data"
    }
   ],
   "source": [
    "arr_exa2=np.random.randn(5,10)\n",
    "sns.distplot(pd.DataFrame(arr_exa2.reshape(1,50)))"
   ]
  },
  {
   "cell_type": "code",
   "execution_count": 651,
   "id": "2829e7c1",
   "metadata": {},
   "outputs": [
    {
     "data": {
      "text/plain": [
       "array([38, 59, 67, 17, 45, 91, 59, 36, 14, 21])"
      ]
     },
     "execution_count": 651,
     "metadata": {},
     "output_type": "execute_result"
    }
   ],
   "source": [
    "np.random.randint(10,100,10)"
   ]
  },
  {
   "cell_type": "code",
   "execution_count": null,
   "id": "0b26c99f",
   "metadata": {},
   "outputs": [],
   "source": [
    "np.any()"
   ]
  }
 ],
 "metadata": {
  "kernelspec": {
   "display_name": "Python 3 (ipykernel)",
   "language": "python",
   "name": "python3"
  },
  "language_info": {
   "codemirror_mode": {
    "name": "ipython",
    "version": 3
   },
   "file_extension": ".py",
   "mimetype": "text/x-python",
   "name": "python",
   "nbconvert_exporter": "python",
   "pygments_lexer": "ipython3",
   "version": "3.9.13"
  }
 },
 "nbformat": 4,
 "nbformat_minor": 5
}
