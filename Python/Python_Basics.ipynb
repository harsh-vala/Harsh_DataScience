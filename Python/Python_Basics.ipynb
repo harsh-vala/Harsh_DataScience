{
 "cells": [
  {
   "cell_type": "markdown",
   "id": "33efa097",
   "metadata": {},
   "source": [
    "# Python\n",
    "-Numbers \n",
    "-Strings\n",
    "-Print Formatting"
   ]
  },
  {
   "cell_type": "code",
   "execution_count": 3,
   "id": "16ada3d3",
   "metadata": {},
   "outputs": [
    {
     "name": "stdout",
     "output_type": "stream",
     "text": [
      "My First Name is Harsh and Last Name is Vala\n"
     ]
    }
   ],
   "source": [
    "first_name='Harsh'\n",
    "last_name='Vala'\n",
    "print(\"My First Name is {first} and Last Name is {last}\".format(last=last_name,first=first_name))"
   ]
  },
  {
   "cell_type": "markdown",
   "id": "4b6051b3",
   "metadata": {},
   "source": [
    "## Part 2\n",
    "-Boolean\n",
    "-Boolean and Logical Operator \n",
    "-Lists\n",
    "-Comparison Operators\n",
    "-Dictionaries\n",
    "-Tuples\n",
    "-Sets"
   ]
  },
  {
   "cell_type": "code",
   "execution_count": null,
   "id": "61991c04",
   "metadata": {},
   "outputs": [],
   "source": [
    "#Bool is the datatype and contains many inbuilt functions such as isnum, isalpha, isalnum and many more."
   ]
  },
  {
   "cell_type": "code",
   "execution_count": null,
   "id": "fdcce208",
   "metadata": {},
   "outputs": [],
   "source": [
    "#Boolean and Logical operation, logical operations inlcude and, or, not \n",
    "#using boolean methods with logical operators"
   ]
  },
  {
   "cell_type": "code",
   "execution_count": 12,
   "id": "375936f0",
   "metadata": {},
   "outputs": [
    {
     "name": "stdout",
     "output_type": "stream",
     "text": [
      "True\n"
     ]
    }
   ],
   "source": [
    "my_str=\"Harsh Vala\"\n",
    "str_exa=\"Harsh\"\n",
    "print(my_str.isalnum() or str_exa.isalpha())"
   ]
  },
  {
   "cell_type": "markdown",
   "id": "bb20c1d5",
   "metadata": {},
   "source": [
    "## List"
   ]
  },
  {
   "cell_type": "code",
   "execution_count": 23,
   "id": "758a0130",
   "metadata": {},
   "outputs": [
    {
     "data": {
      "text/plain": [
       "6"
      ]
     },
     "execution_count": 23,
     "metadata": {},
     "output_type": "execute_result"
    }
   ],
   "source": [
    "# list can be created two ways either via inbuilt function or by list operators, below displayed repectievely.\n",
    "mylist=list()\n",
    "mylist1=[1,2,3,4,5,6]\n",
    "#type(mylist)\n",
    "#type(mylist1)\n",
    "mylist=[\"Hello\",\"World\",1,2,3,4] #len() function to find length of list\n",
    "len(mylist)"
   ]
  },
  {
   "cell_type": "code",
   "execution_count": 42,
   "id": "4a80c54d",
   "metadata": {},
   "outputs": [
    {
     "data": {
      "text/plain": [
       "[1, 2, 3, 4, 5, 6, 7, 5, 6, 7, 8]"
      ]
     },
     "execution_count": 42,
     "metadata": {},
     "output_type": "execute_result"
    }
   ],
   "source": [
    "#appending =list.append(), inserting =list.insert(item,index), extending =list.extend(item/s) and indexing =using \":\" operator\n",
    "mylist1.append(\"haze\")\n",
    "mylist.append([\"hello2\",\"harsh\"])\n",
    "#print(mylist)\n",
    "#print(mylist1)\n",
    "# appending items in list will always insert items at the last intex\n",
    "#indexing or slicing are way of printing list items,by default index starts with 0, below displayed\n",
    "mylist[:] # whole list printing\n",
    "mylist[:6] # while using slicing operator, ending is excluded. last item minus 1 will be considerd.\n",
    "mylist[2:6] # another example for sclicing operator.\n",
    "mylist.insert(11,\"inserted\") # insert function adds item at specified index.\n",
    "mylist=[1,2,3,4,5,6,7]\n",
    "mylist.extend([5,6,7,8]) # extend function will append multiple items without creating nested list\n",
    "mylist"
   ]
  },
  {
   "cell_type": "code",
   "execution_count": 61,
   "id": "5a72c4f8",
   "metadata": {},
   "outputs": [],
   "source": [
    "#inbuilt functions like sum(list), list.pop(index),list.count(value), list.index(value,search_start_index,search_end_index)\n",
    "lst=[1,3,5,7,9,3]"
   ]
  },
  {
   "cell_type": "code",
   "execution_count": 45,
   "id": "b8116a92",
   "metadata": {},
   "outputs": [
    {
     "data": {
      "text/plain": [
       "25"
      ]
     },
     "execution_count": 45,
     "metadata": {},
     "output_type": "execute_result"
    }
   ],
   "source": [
    "sum(lst) # sum of all the list items"
   ]
  },
  {
   "cell_type": "code",
   "execution_count": 46,
   "id": "5fbccadb",
   "metadata": {},
   "outputs": [
    {
     "data": {
      "text/plain": [
       "9"
      ]
     },
     "execution_count": 46,
     "metadata": {},
     "output_type": "execute_result"
    }
   ],
   "source": [
    "lst.pop() # deleting last item form the list "
   ]
  },
  {
   "cell_type": "code",
   "execution_count": 48,
   "id": "15cbf21a",
   "metadata": {},
   "outputs": [
    {
     "data": {
      "text/plain": [
       "5"
      ]
     },
     "execution_count": 48,
     "metadata": {},
     "output_type": "execute_result"
    }
   ],
   "source": [
    "lst.pop(2) # deleting the specific item based on the index specified from the list "
   ]
  },
  {
   "cell_type": "code",
   "execution_count": 53,
   "id": "32b8a9c5",
   "metadata": {},
   "outputs": [
    {
     "data": {
      "text/plain": [
       "2"
      ]
     },
     "execution_count": 53,
     "metadata": {},
     "output_type": "execute_result"
    }
   ],
   "source": [
    "lst.count(3) # count number of occurance of item specified from the list"
   ]
  },
  {
   "cell_type": "code",
   "execution_count": 63,
   "id": "6b40fb47",
   "metadata": {},
   "outputs": [
    {
     "data": {
      "text/plain": [
       "5"
      ]
     },
     "execution_count": 63,
     "metadata": {},
     "output_type": "execute_result"
    }
   ],
   "source": [
    "lst.index(5) # returns index of specified list item from the list.\n",
    "lst.index(3,2) # returns index of specified list item from the list with optional parameter as index to start searching from index."
   ]
  },
  {
   "cell_type": "markdown",
   "id": "aba4cff1",
   "metadata": {},
   "source": [
    "## Sets \n",
    "- sets are iterable, mutable and non-redudant group of elements."
   ]
  },
  {
   "cell_type": "code",
   "execution_count": 85,
   "id": "0272f079",
   "metadata": {},
   "outputs": [
    {
     "data": {
      "text/plain": [
       "{1, 2, 3, 4, 5}"
      ]
     },
     "execution_count": 85,
     "metadata": {},
     "output_type": "execute_result"
    }
   ],
   "source": [
    "set1=set()\n",
    "set1={1,2,3,4,5}\n",
    "set1.add(\"hulk\") # add new element in set\n",
    "set2={1,2,3,4,5,3}\n",
    "set1\n",
    "set2"
   ]
  },
  {
   "cell_type": "code",
   "execution_count": 73,
   "id": "d7417ca5",
   "metadata": {},
   "outputs": [
    {
     "data": {
      "text/plain": [
       "{5}"
      ]
     },
     "execution_count": 73,
     "metadata": {},
     "output_type": "execute_result"
    }
   ],
   "source": [
    "set2.difference(set1) # returns set difference from two sets (mathematically)"
   ]
  },
  {
   "cell_type": "code",
   "execution_count": 74,
   "id": "8dffb888",
   "metadata": {},
   "outputs": [],
   "source": [
    "set2.difference_update(set1)# returns set difference from two sets (mathematically) and updates the values of set2"
   ]
  },
  {
   "cell_type": "code",
   "execution_count": 86,
   "id": "6c16933e",
   "metadata": {},
   "outputs": [
    {
     "data": {
      "text/plain": [
       "{1, 2, 3, 4, 5, 'hulk'}"
      ]
     },
     "execution_count": 86,
     "metadata": {},
     "output_type": "execute_result"
    }
   ],
   "source": [
    "set1"
   ]
  },
  {
   "cell_type": "code",
   "execution_count": 90,
   "id": "9eeccaaf",
   "metadata": {},
   "outputs": [],
   "source": [
    "set2.intersection_update(set1) #returns intersection of two sets"
   ]
  },
  {
   "cell_type": "code",
   "execution_count": 89,
   "id": "689b4e36",
   "metadata": {},
   "outputs": [
    {
     "data": {
      "text/plain": [
       "{1, 2, 3, 4, 5}"
      ]
     },
     "execution_count": 89,
     "metadata": {},
     "output_type": "execute_result"
    }
   ],
   "source": [
    "set2"
   ]
  },
  {
   "cell_type": "markdown",
   "id": "56e5aeea",
   "metadata": {},
   "source": [
    "## Dictionaries\n",
    "-group of keyvalue pairs"
   ]
  },
  {
   "cell_type": "code",
   "execution_count": 94,
   "id": "dafa9419",
   "metadata": {},
   "outputs": [],
   "source": [
    "my_dict=dict()"
   ]
  },
  {
   "cell_type": "code",
   "execution_count": 95,
   "id": "01686378",
   "metadata": {},
   "outputs": [],
   "source": [
    "my_dict={\"car1\":\"Maruti\",\"car2\":\"Toyota\",\"car3\":\"BMW\"}"
   ]
  },
  {
   "cell_type": "code",
   "execution_count": 99,
   "id": "6d769eca",
   "metadata": {},
   "outputs": [
    {
     "name": "stdout",
     "output_type": "stream",
     "text": [
      "Maruti\n",
      "Toyota\n",
      "BMW\n"
     ]
    }
   ],
   "source": [
    "for x in my_dict.values():\n",
    "    print(x)"
   ]
  },
  {
   "cell_type": "code",
   "execution_count": 100,
   "id": "ffccd0f8",
   "metadata": {},
   "outputs": [
    {
     "name": "stdout",
     "output_type": "stream",
     "text": [
      "('car1', 'Maruti')\n",
      "('car2', 'Toyota')\n",
      "('car3', 'BMW')\n"
     ]
    }
   ],
   "source": [
    "for x in my_dict.items():\n",
    "    print(x)"
   ]
  },
  {
   "cell_type": "code",
   "execution_count": 102,
   "id": "8f5802f5",
   "metadata": {},
   "outputs": [],
   "source": [
    "my_dict[\"car4\"]=\"tata\""
   ]
  },
  {
   "cell_type": "code",
   "execution_count": 103,
   "id": "72ea390c",
   "metadata": {},
   "outputs": [
    {
     "data": {
      "text/plain": [
       "{'car1': 'Maruti', 'car2': 'Toyota', 'car3': 'BMW', 'car4': 'tata'}"
      ]
     },
     "execution_count": 103,
     "metadata": {},
     "output_type": "execute_result"
    }
   ],
   "source": [
    "my_dict"
   ]
  },
  {
   "cell_type": "code",
   "execution_count": 105,
   "id": "ac4fc1bd",
   "metadata": {},
   "outputs": [],
   "source": [
    "car1_model={'Mercides':1998}\n",
    "car2_model={'Bugati':1845}\n",
    "car3_model={'Mercides':1927}\n",
    "\n",
    "car={\"car1\":car1_model,\"car2\":car2_model,\"car3\":car3_model}"
   ]
  },
  {
   "cell_type": "code",
   "execution_count": 106,
   "id": "df6ce912",
   "metadata": {},
   "outputs": [
    {
     "data": {
      "text/plain": [
       "{'car1': {'Mercides': 1998},\n",
       " 'car2': {'Bugati': 1845},\n",
       " 'car3': {'Mercides': 1927}}"
      ]
     },
     "execution_count": 106,
     "metadata": {},
     "output_type": "execute_result"
    }
   ],
   "source": [
    "car"
   ]
  },
  {
   "cell_type": "code",
   "execution_count": 109,
   "id": "c93c9a24",
   "metadata": {},
   "outputs": [
    {
     "name": "stdout",
     "output_type": "stream",
     "text": [
      "1845\n"
     ]
    }
   ],
   "source": [
    "print(car[\"car2\"][\"Bugati\"])"
   ]
  },
  {
   "cell_type": "markdown",
   "id": "415a0b87",
   "metadata": {},
   "source": [
    "## Tuples\n",
    "-tuples are unmutable, and whole tuple can be replaced but item cannot be replaced"
   ]
  },
  {
   "cell_type": "code",
   "execution_count": 113,
   "id": "7c2dc499",
   "metadata": {},
   "outputs": [
    {
     "data": {
      "text/plain": [
       "('hello', 'world', 'harsh', 'harsh')"
      ]
     },
     "execution_count": 113,
     "metadata": {},
     "output_type": "execute_result"
    }
   ],
   "source": [
    "my_tlp=tuple()\n",
    "my_tlp=('hello','world','harsh','harsh')\n",
    "my_tlp"
   ]
  },
  {
   "cell_type": "code",
   "execution_count": 115,
   "id": "f6438c6c",
   "metadata": {},
   "outputs": [
    {
     "data": {
      "text/plain": [
       "2"
      ]
     },
     "execution_count": 115,
     "metadata": {},
     "output_type": "execute_result"
    }
   ],
   "source": [
    "my_tlp.count('harsh')"
   ]
  },
  {
   "cell_type": "code",
   "execution_count": 116,
   "id": "ff34f9ce",
   "metadata": {},
   "outputs": [
    {
     "data": {
      "text/plain": [
       "1"
      ]
     },
     "execution_count": 116,
     "metadata": {},
     "output_type": "execute_result"
    }
   ],
   "source": [
    "my_tlp.index('world')"
   ]
  }
 ],
 "metadata": {
  "kernelspec": {
   "display_name": "Python 3 (ipykernel)",
   "language": "python",
   "name": "python3"
  },
  "language_info": {
   "codemirror_mode": {
    "name": "ipython",
    "version": 3
   },
   "file_extension": ".py",
   "mimetype": "text/x-python",
   "name": "python",
   "nbconvert_exporter": "python",
   "pygments_lexer": "ipython3",
   "version": "3.9.13"
  }
 },
 "nbformat": 4,
 "nbformat_minor": 5
}
